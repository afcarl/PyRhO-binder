{
 "cells": [
  {
   "cell_type": "markdown",
   "metadata": {},
   "source": [
    "<div class=\"clearfix\" style=\"padding: 10px; padding-left: 0px\">\n",
    "\n",
    "<a href=\"https://github.com/ProjectPyRhO/PyRhO\"><img src=\"https://raw.githubusercontent.com/ProjectPyRhO/PyRhO/master/pyrho/gui/PyRhO_logo.png\" alt=\"PyRhO logo\" title=\"PyRhO: A Multiscale Optogenetics Simulation Platform. Logo by Pepe Herrero\" width=\"175px\" style=\"display: inline-block; margin-top: 5px;\"></a>\n",
    "\n",
    "<a href=\"https://jupyter.org/\"><img src=\"https://raw.githubusercontent.com/jupyter/nature-demo/master/images/jupyter-logo.png\" alt=\"Jupyter logo\" title=\"Jupyter\" width=\"150px\" class=\"pull-right\" style=\"display: inline-block; margin: 0px;\"></a>\n",
    "</div>\n",
    "\n",
    "## Welcome to Prometheus: Modelling as a Service!\n",
    "\n",
    "Prometheus is a web portal for modelling and simulating rhodopsins. It's a temporary way for you to try out [PyRhO](https://github.com/ProjectPyRhO/PyRhO) (computational tools for optogenetics) in an IPython/[Jupyter](https://jupyter.org/) notebook with absolutely no installation or set-up required. You can find more information about PyRhO in our [open-access paper](https://dx.doi.org/10.3389/fninf.2016.00008). \n",
    "\n",
    "This project was conceived of and developed by Benjamin Evans and Konstantin Nikolic in the [Bio-modelling group](https://www.imperial.ac.uk/bio-modelling) at [Imperial College London](https://www.imperial.ac.uk/). The work was kindly supported by the UK BBSRC grant: BB/L018268/1, the BBSRC Impact Acceleration Award and the UK EPSRC grant: EP/N002474/1. \n",
    "\n",
    "If you find this service useful or have ideas for improvements, all comments are welcome at <a href=\"mailto:projectpyrho@gmail.com?subject=I just tried Prometheus!\">projectpyrho@gmail.com</a>. For the latest updates, follow us on twitter [@ProjectPyRhO](https://twitter.com/ProjectPyRhO)! \n",
    "\n",
    "### Run some example Python code or use the web-based GUI!\n",
    "\n",
    "This Notebook Server was **launched just for you** with [tmpnb](https://github.com/jupyter/tmpnb)! It's a temporary \"sandbox\" environment where everything is configured and ready to go. Try launching the GUI below or running some of the code examples to see what PyRhO can offer you. \n",
    "\n",
    "<div class=\"alert alert-warning\" role=\"alert\" style=\"margin: 10px\">\n",
    "<p>**WARNING**</p>\n",
    "\n",
    "<p>Don't rely on this server for anything you want to last - your server will be *deleted after 10 minutes of inactivity*.</p>\n",
    "<p>This is a pilot study running on a server with limited resources so if performance is slow, please try again later.</p>\n",
    "</div>\n",
    "\n",
    "If you would like to keep your work, in the `File` menu select `Download as` and then choose a format of your choice to save the notebook. If you select `Notebook (.ipynb)`, you can [install PyRhO on your computer](http://www.imperial.ac.uk/bio-modelling/pyrho/overview--installation/) and continue where you left off. "
   ]
  },
  {
   "cell_type": "markdown",
   "metadata": {},
   "source": [
    "### Quickstart -- Graphical User Interface\n",
    "To run the code below:\n",
    "\n",
    "1. Click on the cell to select it.\n",
    "2. Press `SHIFT+ENTER` on your keyboard or press the play button (<button class='fa fa-play icon-play btn btn-xs btn-default'></button>) in the toolbar above.\n",
    "\n",
    "Feel free to create new cells using the plus button (<button class='fa fa-plus icon-plus btn btn-xs btn-default'></button>), or pressing `SHIFT+ENTER` while this cell is selected."
   ]
  },
  {
   "cell_type": "code",
   "execution_count": null,
   "metadata": {
    "collapsed": false
   },
   "outputs": [],
   "source": [
    "%matplotlib notebook\n",
    "from pyrho import *\n",
    "loadGUI()"
   ]
  },
  {
   "cell_type": "markdown",
   "metadata": {},
   "source": [
    "### Advanced usage"
   ]
  },
  {
   "cell_type": "code",
   "execution_count": null,
   "metadata": {
    "collapsed": true
   },
   "outputs": [],
   "source": [
    "# Import the module and set figure rendering to be inline. (You will not see any output yet.)\n",
    "# If you already used the GUI, this cell does not need to be run. \n",
    "%matplotlib notebook\n",
    "from pyrho import *"
   ]
  },
  {
   "cell_type": "markdown",
   "metadata": {},
   "source": [
    "### Model fitting process\n",
    "N.B. Model-fitting is optional but fitting the six-state model takes around 12-13 minutes. "
   ]
  },
  {
   "cell_type": "code",
   "execution_count": null,
   "metadata": {
    "collapsed": true
   },
   "outputs": [],
   "source": [
    "initParams = Parameters()\n",
    "initParams.add_many(                \n",
    "                # Name   Value   Vary    Min     Max     Expr\n",
    "                ('g0',   2.5e4,  True,   0.0,    1e15,   None),\n",
    "                ('gam',  0.05,   True,   0.00,   1,      None),\n",
    "                ('phi_m',3.5e17, True,   1e15,   1e19,   None),\n",
    "                ('k1',   10,     True,   0.0,    1000,   None),\n",
    "                ('k2',   3,      True,   0.0,    1000,   None),\n",
    "                ('p',    1,      True,   0.1,    5,      None),\n",
    "                ('Gf0',  0.04,   True,   0.0,    1000,   None),\n",
    "                ('k_f',  0.1,    True,   0.0,    1000,   None),\n",
    "                ('Gb0',  0.02,   True,   0.0,    1000,   None),\n",
    "                ('k_b',  0.15,   True,   0.0,    1000,   None),\n",
    "                ('q',    1,      True,   0.1,    5,      None),\n",
    "                ('Go1',  2,      True,   0.0,    1000,   None),\n",
    "                ('Go2',  2,      True,   0.0,    1000,   None),\n",
    "                ('Gd1',  0.1,    True,   0.0,    1000,   None),\n",
    "                ('Gd2',  0.01,   True,   0.0,    1000,   None),\n",
    "                ('Gr0',  3.3e-4, True,   0.0,    1000,   None),\n",
    "                ('E',    0,      True,   -1000,  1000,   None),\n",
    "                ('v0',   43,     True,   -1e15,  1e15,   None),\n",
    "                ('v1',   17.1,   True,   -1e15,  1e15,   None))\n",
    "saveData(initParams, 'initParams')\n",
    "from pyrho.datasets import *\n",
    "ChR2data = loadChR2()\n",
    "fitParams = fitModels(ChR2data, nStates=6, params=initParams, postFitOpt=True, relaxFact=2)\n",
    "# Parameters automatically saved as 'fitted{}sParams'.format(nStates)"
   ]
  },
  {
   "cell_type": "markdown",
   "metadata": {},
   "source": [
    "### Command-based NEURON simulation"
   ]
  },
  {
   "cell_type": "code",
   "execution_count": null,
   "metadata": {
    "collapsed": false
   },
   "outputs": [],
   "source": [
    "RhO = models['6']()\n",
    "Prot = protocols['step']()\n",
    "Prot.phis = [1e16, 1e15, 1e14]\n",
    "Sim = simulators['NEURON'](Prot, RhO)\n",
    "Sim.run()\n",
    "Sim.plot()"
   ]
  },
  {
   "cell_type": "markdown",
   "metadata": {},
   "source": [
    "### Brian simulation"
   ]
  },
  {
   "cell_type": "code",
   "execution_count": null,
   "metadata": {
    "collapsed": false
   },
   "outputs": [],
   "source": [
    "import brian2 as br\n",
    "\n",
    "### Define the rhodopsin model\n",
    "nStates = '6'\n",
    "origParams = modelFits[nStates]['ChR2'] # Load from pre-fit models\n",
    "# Alternatively uncomment the line below to use fitted params from above\n",
    "#origParams = loadData('fitted{}sParams'.format(nStates))\n",
    "RhO = models[nStates](origParams)\n",
    "\n",
    "### Define the stimulation protocol\n",
    "Prot = protocols['step']()\n",
    "Prot.phis = [1e18]\n",
    "Prot.Vs = [None]\n",
    "Prot.cycles = [[150, 100], [200, 75]]\n",
    "\n",
    "### Define network parameters\n",
    "from brian2.units import Mohm\n",
    "from brian2.units.stdunits import ms, mV\n",
    "N = 80\n",
    "pConnect = 0.2\n",
    "psp = 'v_post += 1.5*mV'\n",
    "delay = 3*ms\n",
    "netParams = {'tau_m':10*ms, 'R_m':70*Mohm, 'E_m':-70*mV, 'v_t0':-50*mV, 'sigma':10*mV, 't_ref':4*ms}\n",
    "\n",
    "### Define neuron model\n",
    "eqRhO = '''dv/dt = ((-I*R_m)+E_m-v)/tau_m + sigma*xi*tau_m**-0.5 : volt''' + RhO.brian_phi_t\n",
    "eqLIF = '''dv/dt = (E_m-v)/tau_m + sigma*xi*tau_m**-0.5 : volt'''\n",
    "\n",
    "### Create neuron groups - use Euler-Maruyama method for stochasticity\n",
    "G0 = br.NeuronGroup(N, eqRhO, threshold='v>v_t0', reset='v=E_m', refractory='t_ref', \n",
    "                    namespace=netParams, name='Inputs', method='euler')\n",
    "G0.v = 'rand()*(v_t0-E_m)+E_m'\n",
    "G1 = br.NeuronGroup(N/2, eqLIF, threshold='v>v_t0', reset='v=E_m', refractory='t_ref', \n",
    "                    namespace=netParams, method='euler')\n",
    "G1.v = 'rand()*(v_t0-E_m)+E_m'\n",
    "G2 = br.NeuronGroup(N/4, eqLIF, threshold='v>v_t0', reset='v=E_m', refractory='t_ref', \n",
    "                    namespace=netParams, method='euler')\n",
    "G2.v = 'rand()*(v_t0-E_m)+E_m'\n",
    "\n",
    "### Create synapses\n",
    "S1 = br.Synapses(G0, G1, on_pre=psp, delay=delay)\n",
    "S1.connect(True, p=pConnect)\n",
    "S2 = br.Synapses(G1, G2, on_pre=psp, delay=delay)\n",
    "S2.connect(True, p=pConnect)\n",
    "\n",
    "### Create monitors\n",
    "monitors = {'states' : br.StateMonitor(G0, RhO.brianStateVars, record=0),   # Record states\n",
    "            'I'      : br.StateMonitor(G0, 'I', record=0),                  # Record current\n",
    "            'V'      : br.StateMonitor(G0, 'v', record=0),                  # Record voltage\n",
    "            'spikes' : [br.SpikeMonitor(G0, name='Retina'),                 # Record spikes\n",
    "                        br.SpikeMonitor(G1, name='LGN'), \n",
    "                        br.SpikeMonitor(G2, name='V1')]}\n",
    "\n",
    "### Build the network\n",
    "net = br.Network(br.collect())\n",
    "net.add(monitors)\n",
    "\n",
    "### Run the simulation\n",
    "Sim = simulators['Brian'](Prot, RhO, simParams['Brian'], net, netParams, monitors)\n",
    "Sim.run()\n",
    "Sim.plot()"
   ]
  },
  {
   "cell_type": "markdown",
   "metadata": {},
   "source": [
    "### Custom stimulus protocol"
   ]
  },
  {
   "cell_type": "code",
   "execution_count": null,
   "metadata": {
    "collapsed": true
   },
   "outputs": [],
   "source": [
    "from scipy.interpolate import InterpolatedUnivariateSpline as spline\n",
    "RhO = models['6']()\n",
    "Prot = protocols['custom']()\n",
    "Prot.phis = [1e15, 1e16]\n",
    "Sim = simulators['Python'](Prot, RhO)\n",
    "\n",
    "def pulseGenerator(run, phi, pulse):\n",
    "    \"\"\"Custom interpolation function for a step pulse with damped sinusoidal oscillations\"\"\"\n",
    "    pStart, pEnd = pulse\n",
    "    t = np.linspace(0, pEnd-pStart, 1001, endpoint=True)\n",
    "    x = phi + 0.5*phi*np.sin(0.2*np.pi*t)*np.exp(-.05*t)\n",
    "    return spline(pStart + t, x, ext=1, k=5)\n",
    "\n",
    "Prot.phi_ft = pulseGenerator\n",
    "\n",
    "Sim.run()\n",
    "Sim.plot()"
   ]
  }
 ],
 "metadata": {
  "kernelspec": {
   "display_name": "Python 3",
   "language": "python",
   "name": "python3"
  },
  "language_info": {
   "codemirror_mode": {
    "name": "ipython",
    "version": 3
   },
   "file_extension": ".py",
   "mimetype": "text/x-python",
   "name": "python",
   "nbconvert_exporter": "python",
   "pygments_lexer": "ipython3",
   "version": "3.5.1"
  },
  "widgets": {
   "state": {},
   "version": "1.1.1"
  }
 },
 "nbformat": 4,
 "nbformat_minor": 0
}
